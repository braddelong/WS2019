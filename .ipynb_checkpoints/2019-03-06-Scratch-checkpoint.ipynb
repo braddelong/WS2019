{
 "cells": [
  {
   "cell_type": "markdown",
   "metadata": {},
   "source": [
    "# 2019-03-06 Scratch\n",
    "\n",
    "&nbsp;"
   ]
  },
  {
   "cell_type": "markdown",
   "metadata": {},
   "source": [
    "## <font color=\"000088\">The Weak Instruments Problem</font>\n",
    "\n",
    "Suppose: $ y = {\\beta}x + u $; $ x = {\\pi}z + v $; $ u = {\\delta}v + w $\n",
    "\n",
    "then:\n",
    "\n",
    "$ {\\beta}_{IV} = \\frac{zy}{zx} = \\frac{{\\beta}xz + uz}{xz} $\n",
    "\n",
    "$ {\\beta}_{IV} = \\frac{{\\beta}{\\pi}zz + {\\beta}vz + uz}{{\\pi}zz + vz} = \\beta + \\frac{uz}{{\\pi}zz + vz}$\n",
    "\n",
    "$ {\\beta}_{IV} = \\beta + \\frac{{\\delta}vz + wz}{{\\pi}zz + vz} = \\beta + {\\delta}\\frac{1}{({\\pi}zz/(vz)) + 1} + \\frac{wz}{{\\pi}zz + vz} $\n",
    "\n",
    "And if $ \\pi = 0 $, then: \n",
    "\n",
    "$ {\\beta}_{IV0} = \\beta + \\frac{{\\delta}vz + wz}{vz} = \\beta + \\delta + \\frac{wz}{vz} $\n",
    "\n",
    "This is the weak instruments problem. As you get more and more data, $ \\frac{wz}{vz} $ is not heading for zero, and even if it were your estimated $ {\\beta}_{IV0} $ is not headed for $ \\beta $ but is rather headed for $ \\beta + \\delta $\n",
    "\n",
    "Now we would like to apply a file-drawer problem filter: $ \\pi $ is zero, but in the sample you have the calculated $ zv $ is large enough that you are happy to run and report the regression. What can we then say?\n",
    "\n",
    "----\n",
    "\n"
   ]
  }
 ],
 "metadata": {
  "kernelspec": {
   "display_name": "Python 3",
   "language": "python",
   "name": "python3"
  },
  "language_info": {
   "codemirror_mode": {
    "name": "ipython",
    "version": 3
   },
   "file_extension": ".py",
   "mimetype": "text/x-python",
   "name": "python",
   "nbconvert_exporter": "python",
   "pygments_lexer": "ipython3",
   "version": "3.6.6"
  }
 },
 "nbformat": 4,
 "nbformat_minor": 2
}
