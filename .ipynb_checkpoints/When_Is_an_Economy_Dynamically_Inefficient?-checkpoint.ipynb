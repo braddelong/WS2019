{
 "cells": [
  {
   "cell_type": "markdown",
   "metadata": {},
   "source": [
    "## <font color=\"880000\"> When Is an Economy Dynamically Inefficient?</font>\n",
    "\n",
    "From: Robert Waldmann, Brad DeLong   \n",
    "To: Interested Parties   \n",
    "Date: 2019-04-12\n",
    "\n",
    "----"
   ]
  },
  {
   "cell_type": "markdown",
   "metadata": {},
   "source": [
    "This note tries to dot some of the i's and cross some of the t's in Olivier Blanchard's excellent, thoughtful, and provocative American Economic Association Presidential Address \"Public Debt and Low Interest Rates\" <https://www.aeaweb.org/aea/2019conference/program/pdf/14020_paper_etZgfbDr.pdf>. One of his conclusions is that, in the near-canonical Diamond (1965) Overlapping-Generations model he considers, whether a marginal increase in public debt raises welfare—whether an economy is \"dynamically inefficient\"—depends not just on the relationship of the rate of interest on safe government bonds to the growth rate but on both that interest rate's and the expected rate of profit's relationship to the economy's growth rate. We believe that there is a distinction between two possible definitions of \"dynamic efficiency\":\n",
    "\n",
    "1. There is a government policy involving issuing and then rolling over debt with associated lump-sum taxes and subsidies that reduces the capital stock and raises welfare.\n",
    "2. There is a government policy involving not only issuing and then rolling over debt with associated lump-sum taxes and subsidies but also profits taxes and wage subsidies that reduces the capityal stock and raises welfare.\n",
    "\n",
    "Blanchard is correct that (1) depends on the relationship of both the rate of interest on safe government bonds and the expected rate of profit to the economy's growth rate. But (2) depends on only on the relationship of the rate of interest on safe government bonds to the economy's growth rate.\n",
    "\n",
    "In Blanchard's analysis of the near-canonical Diamond (1965) Overlapping-Generations model, issuing government debt directly shifts consumption away from the young who buy the debt to use it as a savings vehicle and to the old who sell the debt and spend the proceeds. Blanchard’s correct conclusion is that this direct-transfer effect will be welfare-raising as long as the economy is dynamically-inefficient, defined as having its safe rate of interest is less than its growth rate. So far, so good.\n",
    "\n",
    "In Blanchard's analysis, a second effect springs from government debt’s role in crowding-out capital investment. This crowding-out of investment has a factor-price effect: it raises profits received by old wealthholders and diminishes wages earned by younger workers, and so it also transfers from the young, who earn less in wages, to the old, whose profits are increased because the firms they own pay less in wages. Blanchard concludes, correctly, that this effect will be welfare-raising only under a stronger condition than that required for the direct-transfer effect: not just the safe rate of interest on government bonds but the risky rate of profit on capital investment must be lower than the economy’s growth rate.\n",
    "\n",
    "Our point is that this factor-price effect is the inverse of a wage subsidy funded by a tax on profits. It thus can be neutralized by a government that taxes profits and provides a wage subsidy. Thus there is a composite policy—the issuance of debt and a profits tax-financed wage subsidy—that reduces the economy's capital stock and is welfare-raising whenever the safe interest rate is less than the economy's growth rate. There is thus a sense in which the risky profit rate is irrelevant: in which an economy characterized by the semi-canonical Diamong (1965) overlapping-generations model is dynamically inefficient—has \"too much\" capital—whenever the safe interest rate  is less than the economy's growth rate.\n",
    "\n",
    "&nbsp;"
   ]
  },
  {
   "cell_type": "markdown",
   "metadata": {},
   "source": [
    "### <font color=\"000088\"> Dynamic Inefficiency Under Certainty</font>\n",
    "\n",
    "In a world with no stochastic shocks, there is dynamic efficiency so long as $ R > 1 + g $.\n",
    "\n",
    "If $ 1 + g > R $, there is dynamic inefficiency, in the sense that a Pareto improvement can be achieved through a reduction in the stock of capital. Simply have the government issue and then rollover debt, and spend the money on useful things. In the semi-canonical Diamond model:\n",
    "\n",
    "1. If the money is distributed to all, that is a Pareto improvement. \n",
    "2. Agents have expanded opportunities—they can, when young, invest in debt rather than lower-yielding capital, and that is a second Pareto improvement. \n",
    "3. Moreover, the reduction in the captial stock shifts factor prices toward profits received by the old and away from wages received by the young, which is a Diamond-model Pareto improvement as well. \n",
    "\n",
    "&nbsp;"
   ]
  },
  {
   "cell_type": "markdown",
   "metadata": {},
   "source": [
    "### <font color=\"000088\"> Dynamic Inefficiency Under Uncertainty</font>\n",
    "\n",
    "However, when there is a wedge between the (risky) rate of profit and the (safe) rate of interest there are at least two real interest rates. Which of these rates matters for dynamic inefficiency? This matters, for, as noted by Blanchard, in the United States typically the safe interest rate $ R^f $ has been less than $ 1 + g $, but the risky profit rate $ R $ has been greater than $ 1 + g $. \n",
    "\n",
    "It turns out that it is the safe rate that matters. The presence of a profit rate $ R > 1 + g $ along with an interest rate $ 1 + g > R^f $ means that achieving a Pareto improvement via a reduction in the capital stock is not trivially simple—as it is in the no-wedge case—but such a policy exists.\n",
    "\n",
    "For simplicity, assume trend growth $ g = 0 $. Furthermore, assume $ {R^f}_t < 1 $ for every t. (Note that this is a strong assumption: $ R^f $ varies with the capital stock $ K $, and this requires that there be no state of the world in which the capital stock is so low that the economy becomes—temporarily—dynamically efficient.) Consider a government that issues and rollsover debt $ D $, paying each period's safe rate $ {R^f}_t < 0 $, and taxes or transfers to keep D constant:\n",
    "\n",
    "1. Since $ {R^f}_t < 1 $ for all t, the state transfers wealth to its citizens each period—a Pareto improvement.\n",
    "\n",
    "2. Moreover, $ D $ crowds out K, so there is reduced production. Consumers lose $ {R_t}{\\Delta}K_t $, where $ {\\Delta}K $ is the reduction in $ K $ due to $ D $, and gain $ {R^f}_tD $. Since they have a revealed preference for $ {R^f}_tD $, this is a Pareto improvement as well. \n",
    "\n",
    "3. However, as Blanchard stresses, this reduction $ {\\Delta}K $ in the capital stock also has a general equilibrium effect on factor prices: a higher rate of profit $ r $ and lower wages $ W $. Blanchard demonstrates that the sign of this effect on the welfare evaluated after the resolution of period t-1 uncertainty but before thje resolution of period t uncertainty of the median generation which works with median K using median technology is the same as the sign of: $ E_{t-1}(R_t - 1) $.\n",
    "\n",
    "It is this third effect that leads Blanchard to conclude that dynamic inefficiency depends not just on the (safe) interest rate relative to the growth rate but also on the (risky) profit rate relative to the growth rate.\n",
    "\n",
    "This is correct if the only policy levers available to the government are the issuing and redemption of debt and associated lump-sum taxes and transfers. However, if the state can also impose a profits tax and a wage subsidy, then the third effect exists only if its existence pleases the government. If the existence of this general-equilibrium factor-price effect does not please the government, it can neutralize it. It is a feasible (balanced budget) tax-and-transfer policy to ensure that citizens face the same $ W_t $ and $ R_t $ that they would have faced under zero-debt laissez-faire. In this case effects (1) and (2) are still present: citizens still get a subsidy each period, and citizens still have access to a high-value safe saving vehicle in which they chose to invest.\n",
    "\n",
    "This is a Pareto improvement associated with a reduced capital stock. The existence of this Pareto improvement shows that a sufficient condition for dynamic inefficiency is $ {R^f}_t < 0 $ for all t.\n",
    "\n",
    "&nbsp;"
   ]
  },
  {
   "cell_type": "markdown",
   "metadata": {},
   "source": [
    "### <font color=\"000088\"> Relaxing the $ R^f $ always less than $ g $ Constraint</font>\n",
    "\n",
    "More generally, if $ E({R^f}_t) < 0 $, the government can increase money metric welfare averaged over generations.\n",
    "\n",
    "OK the point (if any) of this note is to worry about the complexity of the (always feasible) tax and transfer policy described above. Use the notation:\n",
    "\n",
    "* $ K_t $ is capital at time t given the debt D and the taxes and transfers up until t. \n",
    "* $ {K^*}_t $ is the capital which there would be with laissez-faire.\n",
    "* $ R_t $ is the profit rate with the debt D\n",
    "* $ {R^*}_t $ is the profit rate under laissez-faire.\n",
    "* $ {\\tau}_t $ is the profit tax rate\n",
    "\n",
    "We require: $ (1-{\\tau}_t){R^*}_t) = R_t $\n",
    "\n",
    "So: $ (1-{\\tau}_t) = \\frac{R_t}{{R^*}_t} $\n",
    "\n",
    "Assume: $ Y_t = A_t(K_{t-1})^{\\alpha} $\n",
    "\n",
    "Here it is important that the shock is a stochastic Hicks-neutral technology shock.\n",
    "\n",
    "This mean that $ \\frac{R_t}{{R^*}_t} = \\left(\\frac{K_{t-1}}{{K^*}_{t-1}}\\right)^{\\alpha-1} $.  \n",
    "\n",
    "The ratio does not depend on $ A_t $ because the shocks are Hicks neutral.\n",
    "\n",
    "(In addition, to get a simple formula for $ {R^f}_)t $,I also need that the utility from consumption when old yields constant relative risk aversion: for example. $ u(C_o) = \\ln(C_o) $. This implies that $ {R^f}_t $ depends only on $ K_t $—is a constant times $ K_t^{\\alpha-1} $.  The safe rate is lower than the expected value of the risky return, so the constant is less than $ {\\alpha}E(A_t) $.)\n",
    "\n",
    "$ K_{t-1} $ is known by agents at time (beause they are choosing it).  Assume $ {K^*}_{t-1} $ can be figured out, and is, by the extremely arithmetically-inclined state and its citizens. The state must do this period-by-period to find the $ {\\tau}_t $ sequence which guarantees a Pareto improvement...\n",
    "\n",
    "&nbsp;"
   ]
  },
  {
   "cell_type": "markdown",
   "metadata": {},
   "source": [
    "### <font color=\"008800\"> A Simple Special Case</font>\n",
    "\n",
    "There is a special case in which the required $ {\\tau}_t $ is constant, and the effect of debt and of the profits-tax-and-wage-subsidy on the expected welfare of a generation taken when the generation is young is constant. Consider:\n",
    "\n",
    "> $ U = C_y + \\ln(C_o) $\n",
    "\n",
    "In this case, all variation in $ Y_t $ is absorbed by $ C_{yt} $. Then everything is very simple. There are closed form solutions. \n",
    "\n",
    "&nbsp;\n",
    "\n",
    "----"
   ]
  },
  {
   "cell_type": "markdown",
   "metadata": {},
   "source": [
    "## <font color=\"880000\"> When Is an Economy Dynamically Inefficient?</font>\n",
    "\n",
    "<img src=\"https://tinyurl.com/20190119a-delong\" width=\"300\" style=\"float:right\" />\n",
    "\n",
    "### <font color=\"000088\">Catch Our Breath—Further Notes:</font>\n",
    "\n",
    "Blanchard: <https://tinyurl.com/20190119b-delong>   \n",
    "Waldmann: \n",
    "* <https://tinyurl.com/20190119c-delong> \n",
    "* <https://tinyurl.com/20190119d-delong>\n",
    "* <https://tinyurl.com/20190119e-delong>\n",
    "\n",
    "<br clear=\"all\" />\n",
    "\n",
    "----\n",
    "\n",
    "* Weblog Support \n",
    "* nbViewer \n",
    "\n",
    "&nbsp;\n",
    "\n",
    "----"
   ]
  }
 ],
 "metadata": {
  "kernelspec": {
   "display_name": "Python 3",
   "language": "python",
   "name": "python3"
  },
  "language_info": {
   "codemirror_mode": {
    "name": "ipython",
    "version": 3
   },
   "file_extension": ".py",
   "mimetype": "text/x-python",
   "name": "python",
   "nbconvert_exporter": "python",
   "pygments_lexer": "ipython3",
   "version": "3.6.6"
  }
 },
 "nbformat": 4,
 "nbformat_minor": 2
}
