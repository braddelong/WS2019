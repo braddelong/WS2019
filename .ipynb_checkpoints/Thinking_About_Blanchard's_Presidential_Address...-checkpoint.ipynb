{
 "cells": [
  {
   "cell_type": "markdown",
   "metadata": {},
   "source": [
    "# <font color=\"880000\">Thinking About Blanchard's Presidential Address...</font>\n",
    "\n",
    "I cannot follow Olivier's algebra here <https://www.aeaweb.org/aea/2019conference/program/pdf/14020_paper_etZgfbDr.pdf>:\n",
    "\n",
    "<img style=\"display:block; margin-left:auto; margin-right:auto;\" src=\"https://delong.typepad.com/.a/6a00e551f080038834022ad38c8fdf200c-pi\" alt=\"Unnamed\" title=\"unnamed.png\" border=\"0\" width=\"500\" height=\"454\" />\n",
    "\n",
    "What am I doing wrong?\n",
    "\n",
    "Ah. I see. Go from (4) to (4a):\n",
    "\n",
    ">(4a) $ dU_{bt} = \\left[ \\frac{\\beta\\alpha}{\\eta} \\right] E \\left[ \\left( R_{t+1}R_t-\\frac{R_{t+1}}{R_t}R_t \\right)U'(C_{2,t+1}) \\right]dK  $\n",
    "\n",
    "to (4b):\n",
    "\n",
    ">(4b) $ dU_{bt} = \\left[ \\frac{\\beta\\alpha}{\\eta} \\right] E  \\left[ \\left( R_{t+1}R_t-R_{t+1} \\right) U'(C_{2,t+1}) \\right]  dK $\n",
    "\n",
    "to (4c):\n",
    "\n",
    ">(4c) $ dU_{bt} = \\left[ \\frac{\\beta\\alpha}{\\eta} \\right] E  \\left[ \\left( R_{t+1}(R_t-1) \\right) U'(C_{2,t+1}) \\right]  dK $\n",
    "\n",
    "to (5a):\n",
    "\n",
    ">(5a) $ dU_{bt} = \\left[ \\frac{\\beta\\alpha}{\\eta} \\right] E  \\left[ \\left( R_{t+1} \\right) U'(C_{2,t+1}) \\right] (R_t-1) dK $\n",
    "\n",
    "But where the hell does the extra $ R_t $ in the denominator of Blanchard's (5) come from?\n",
    "\n",
    "&nbsp;"
   ]
  },
  {
   "cell_type": "markdown",
   "metadata": {},
   "source": [
    "### <font color=\"000088\">Some Details on My Problem...</font>\n",
    "\n",
    "I still have not gotten it. In the Blanchard setup, the difference between the (risky) rate of profit and be (safe) rate of interest on government debt is all due to uncertainty and risk aversion. But, at least as I see it, there is no uncertainty in the effect of the pay-as-you-go transfer policy.\n",
    "\n",
    "Blanchard's partial equilibrium effect is to transfer dD from the young to the old, and this is good as long as the safe rate R<sup>f</sup> &lt; 1, and so you are transferring from a lower to a higher expected-marginal-utility-of-wealth situation. You gain dD when old, and lose dD when young. That is clear.\n",
    "\n",
    "Blanchard's general equilibrium effect arises because this transfer dD has an effect on saving and capital formation dK also shifts relative prices, specifically the (risky) rate of profit R: you gain KdR when old and lose dW = -KdR when young.\n",
    "\n",
    "My problem is that for Olivier's general equilibrium effect the welfare calculation would seem to be:\n",
    "\n",
    ">$ dU_{\\beta} = -KdR[U’(C_1)] + E[KdR][E(U’(C_2))] $\n",
    "\n",
    "And the question is: what induces the correlation between $ dR and $ E(U’(C_2)) $ necessary to make the right rate to look at be the (risky) rate of profit R?\n",
    "\n",
    "&nbsp;"
   ]
  },
  {
   "cell_type": "markdown",
   "metadata": {},
   "source": [
    "### <font color=\"000088\">OK: Time to March Through the Algebra. Wish Me Luck!</font>\n",
    "\n",
    "Send out the dogs if I do not report back before tomorrow...\n",
    "\n",
    "Clear the decks. Let us shift to my preferred notation...\n",
    "\n",
    "Diamond overlapping-generations model (y, o)...\n",
    "\n",
    "One unit of labor...\n",
    "\n",
    "Two states of the world as far as technology is concerned: a high productivity shock and a low productivity shock case (+, -)...\n",
    "\n",
    "Production function: $ Y = K^{\\alpha}(1±\\epsilon) $\n",
    "\n",
    "Utility function: $ U =  -e^{-{\\gamma}C_y}  + \\beta \\left[ -e^{-{\\gamma}C_o} \\right]$\n",
    "\n",
    "Budget constraint young: $ C_y = W_y - K_o $\n",
    "\n",
    "Budget constraint old: $ C_o = (K_o)^{\\alpha}(1±\\epsilon) - W_o $\n",
    "\n",
    "Wage: $ W = Y = (1 - \\alpha)K^{\\alpha}(1±\\epsilon) $\n",
    "\n",
    "Profit Rate: $ r = \\frac{dY}{dK} = {\\alpha}K^{\\alpha-1}(1±\\epsilon) $\n",
    "\n",
    "Utility should thus depend on:\n",
    "\n",
    "* whether productivity was ± when one was young (and thus got a high/low wage), and * on whether productivity was ± when one was old (and thus got a high/low rate of profit), but \n",
    "* CARA should mean that the capital stock when old should not depend on one's wealth and thus on the wage when young, but be constant across states of the world...\n",
    "\n",
    "Thus productivity when young should be a shift only in the level of utility; and all economic decisions should only depend on the two possible states of productivity when one is old, and the interaction with risk aversion...\n",
    "\n",
    "Let me see if I can still do this...\n",
    "\n",
    "&nbsp;"
   ]
  },
  {
   "cell_type": "markdown",
   "metadata": {},
   "source": [
    "## <font color=\"880000\">Thinking About Blanchard's Presidential Address...</font>\n",
    "\n",
    "<img src=\"https://tinyurl.com/20190119a-delong\" width=\"300\" style=\"float:left\" />\n",
    "\n",
    "## Catch Our Breath—Further Notes:\n",
    "\n",
    "Blanchard: <ttps://tinyurl.com/20190119b-delong>   \n",
    "Waldmann: <https://tinyurl.com/20190119c-delong> | <https://tinyurl.com/20190119d-delong> | document not found: https://docs.google.com/viewer?a=v&pid=sites&srcid=ZGVmYXVsdGRvbWFpbnxyb2JlcnR3YWxkbWFubnxneDoyOTNmMjcyN2I3MTAzMWJi\n",
    "\n",
    "<br clear=\"all\" />\n",
    "\n",
    "----\n",
    "\n",
    "* Weblog Support <https://github.com/braddelong/WS2019/blob/master/Thinking_About_Blanchard's_Presidential_Address....ipynb>\n",
    "* nbViewer <https://nbviewer.jupyter.org/github/braddelong/WS2019/blob/master/Thinking_About_Blanchard%27s_Presidential_Address....ipynb>\n",
    "\n",
    "&nbsp;\n",
    "\n",
    "----"
   ]
  }
 ],
 "metadata": {
  "kernelspec": {
   "display_name": "Python 3",
   "language": "python",
   "name": "python3"
  },
  "language_info": {
   "codemirror_mode": {
    "name": "ipython",
    "version": 3
   },
   "file_extension": ".py",
   "mimetype": "text/x-python",
   "name": "python",
   "nbconvert_exporter": "python",
   "pygments_lexer": "ipython3",
   "version": "3.6.6"
  }
 },
 "nbformat": 4,
 "nbformat_minor": 2
}
