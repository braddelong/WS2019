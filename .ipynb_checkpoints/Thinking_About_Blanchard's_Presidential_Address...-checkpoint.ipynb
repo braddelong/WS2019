{
 "cells": [
  {
   "cell_type": "markdown",
   "metadata": {},
   "source": [
    "# Thinking About Blanchard's Presidential Address...\n",
    "\n",
    "I cannot follow Olivier's algebra here <https://www.aeaweb.org/aea/2019conference/program/pdf/14020_paper_etZgfbDr.pdf>:\n",
    "\n",
    "<img style=\"display:block; margin-left:auto; margin-right:auto;\" src=\"https://delong.typepad.com/.a/6a00e551f080038834022ad38c8fdf200c-pi\" alt=\"Unnamed\" title=\"unnamed.png\" border=\"0\" width=\"500\" height=\"454\" />\n",
    "\n",
    "What am I doing wrong?\n",
    "\n",
    "&nbsp;"
   ]
  },
  {
   "cell_type": "markdown",
   "metadata": {},
   "source": [
    "### Some Details on My Problem...\n",
    "\n",
    "I still have not gotten it. In the Blanchard setup, the difference between the (risky) rate of profit and be (safe) rate of interest on government debt is all due to uncertainty and risk aversion. But, at least as I see it, there is no uncertainty in the effect of the pay-as-you-go transfer policy.\n",
    "\n",
    "Blanchard's partial equilibrium effect is to transfer dD from the young to the old, and this is good as long as the safe rate R<sup>f</sup> &lt; 1, and so you are transferring from a lower to a higher expected-marginal-utility-of-wealth situation. You gain dD when old, and lose dD when young. That is clear.\n",
    "\n",
    "Blanchard's general equilibrium effect arises because this transfer dD has an effect on saving and capital formation dK also shifts relative prices, specifically the (risky) rate of profit R: you gain KdR when old and lose dW = -KdR when young.\n",
    "\n",
    "My problem is that for Olivier's general equilibrium effect the welfare calculation would seem to be:\n",
    "\n",
    "$ dU_{\\beta} = -KdR[U’(C_1)] + KdR[E(U’(C_2))] $\n",
    "\n",
    "And the ratio of those two marginal utilities $ E(U’(C_2))/U’(C_1) $ would seem to still be the (safe) R<sup>f</sup> on government bonds and not the (risky) rate of profit R...\n",
    "\n",
    "&nbsp;"
   ]
  },
  {
   "cell_type": "markdown",
   "metadata": {},
   "source": [
    "### OK: Time to March Through the Algebra. Wish Me Luck, Everyone!\n",
    "\n",
    "Send out the dogs if I do not report back before lunch...\n",
    "\n",
    "&nbsp;"
   ]
  }
 ],
 "metadata": {
  "kernelspec": {
   "display_name": "Python 3",
   "language": "python",
   "name": "python3"
  },
  "language_info": {
   "codemirror_mode": {
    "name": "ipython",
    "version": 3
   },
   "file_extension": ".py",
   "mimetype": "text/x-python",
   "name": "python",
   "nbconvert_exporter": "python",
   "pygments_lexer": "ipython3",
   "version": "3.6.6"
  }
 },
 "nbformat": 4,
 "nbformat_minor": 2
}
