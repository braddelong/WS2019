{
 "cells": [
  {
   "cell_type": "markdown",
   "metadata": {},
   "source": [
    "# <font color=\"880000\">2019-03-08 First-Quarter Residual Seasonality</font>\n",
    "\n",
    "<https://www.icloud.com/numbers/04dnK6WEuo__sARmQ9hN40jiA>\n",
    "\n",
    "<img style=\"display:block; margin-left:auto; margin-right:auto;\" src=\"https://delong.typepad.com/.a/6a00e551f0800388340240a490f947200b-pi\" alt=\"2019 03 08 First Quarter GDP Seasonals numbers\" title=\"2019-03-08_First_Quarter_GDP_Seasonals_numbers.png\" border=\"0\" width=\"500\" height=\"493\" />"
   ]
  }
 ],
 "metadata": {
  "kernelspec": {
   "display_name": "Python 3",
   "language": "python",
   "name": "python3"
  },
  "language_info": {
   "codemirror_mode": {
    "name": "ipython",
    "version": 3
   },
   "file_extension": ".py",
   "mimetype": "text/x-python",
   "name": "python",
   "nbconvert_exporter": "python",
   "pygments_lexer": "ipython3",
   "version": "3.6.7"
  }
 },
 "nbformat": 4,
 "nbformat_minor": 2
}
